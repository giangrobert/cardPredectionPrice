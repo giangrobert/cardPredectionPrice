{
 "cells": [
  {
   "cell_type": "markdown",
   "metadata": {},
   "source": [
    "# MACHINE LEARNING"
   ]
  },
  {
   "cell_type": "markdown",
   "metadata": {},
   "source": [
    "Deseamos construir un modelo de Machine Learning que permita predecir el valor de un vehículo de\n",
    "segunda mano en función de las siguientes características."
   ]
  },
  {
   "cell_type": "markdown",
   "metadata": {},
   "source": [
    "1. Año del Vehículo: Representado como un número entero, por ejemplo, 2017.\n",
    "2. Marca del Vehículo: Incluyendo marcas como \"Toyota,\" \"Honda,\" \"Ford,\" etc.\n",
    "3. Kilometraje: La cantidad de kilómetros recorridos por el vehículo.\n",
    "4. Color del Vehículo: Puede ser \"Blanco,\" \"Gris,\" \"Negro,\" u otro."
   ]
  },
  {
   "cell_type": "markdown",
   "metadata": {},
   "source": [
    "Se ha observado que el color del vehículo puede influir ligeramente en el precio, con vehículos más claros\n",
    "siendo ligeramente más económicos que los de colores oscuros"
   ]
  },
  {
   "cell_type": "markdown",
   "metadata": {},
   "source": [
    "* Resolviendo la Solución"
   ]
  },
  {
   "cell_type": "markdown",
   "metadata": {},
   "source": [
    "### Respondiendo las preguntas"
   ]
  },
  {
   "cell_type": "markdown",
   "metadata": {},
   "source": [
    "\n",
    "**1. ¿Cuál es el objetivo principal de este problema?**\n",
    "> - El objetivo principal de este problema es desarrollar un modelo predictivo que pueda estimar con precisión el valor de mercado de un vehículo de segunda mano, considerando factores como su año, marca, kilometraje y color. Una correcta estimación puede ayudar tanto a vendedores como a compradores a tomar decisiones informadas sobre el precio adecuado.\n",
    "\n",
    "\n",
    "\n",
    "**2. ¿Qué tipo de problema de Machine Learning es este?**\n",
    "> - Este es un problema de regresión. En la regresión, nuestro objetivo es predecir una variable dependiente continua (en este caso, el precio del vehículo) basada en una o más variables independientes.\n",
    "\n",
    "\n",
    "\n",
    "**3. ¿Cuál es la variable objetivo en este problema?**\n",
    "> - La variable objetivo, también conocida como variable dependiente, es el \"valor\" o \"precio\" del vehículo de segunda mano. Es el resultado que deseamos predecir utilizando las características o variables independientes proporcionadas.\n",
    "\n",
    "\n",
    "\n",
    "**4. ¿Cuáles son las variables predictoras en este problema?**\n",
    "> - Las variables predictoras, también conocidas como características o variables independientes, en este caso son: Año del Vehículo, Marca del Vehículo, Kilometraje y Color del Vehículo. Estas características influyen o tienen alguna relación con el precio de reventa de un vehículo.\n",
    "\n",
    "\n",
    "**5. ¿Cómo se puede preprocesar la variable \"Marca del Vehículo\" antes de usarla en el modelo?**\n",
    "- Una forma de preprocesar la variable \"Marca del Vehículo\" es mediante la codificación ordinal. En esta técnica, asignamos un número entero único a cada categoría (o marca, en este caso). Siguiendo tu ejemplo:\n",
    "  - Toyota: 1\n",
    "  - Honda: 2\n",
    "  - Ford: 3\n",
    "\n",
    "  Así, un vehículo de marca Toyota se representaría con el número 1, Honda con el 2, y Ford con el 3.\n",
    "\n",
    "\n",
    "**6. Describe brevemente cómo manejarías los valores ausentes en el conjunto de datos.**\n",
    "- Los valores ausentes en el dataset son inevitables y pueden surgir por diversas razones. Se podría manejar de la siguiente manera:\n",
    "  - **Eliminación:** Descartar registros que tengan valores faltantes.\n",
    "  - **Imputación:** Rellenar valores faltantes con estadísticas descriptivas, como la media, mediana o moda. Es una técnica rápida pero puede no ser la más adecuada siempre.\n",
    "  - **Modelos de Imputación:** Como KNN imputer, que estima valores faltantes basándose en sus vecinos más cercanos.\n",
    "\n",
    "\n",
    "**7. Explica cómo codificarías la variable categórica \"Color del Vehículo\" para su uso en el modelo.**\n",
    "- Para manejar la variable categórica \"Color del Vehículo\", se puede utilizar la codificación one-hot, también conocida como codificación de matriz de identidad. Esta técnica implica convertir cada valor posible de la variable categórica en una nueva columna binaria. Por ejemplo: Si nuestros colores son \"Blanco\", \"Gris\" y \"Negro\", después de aplicar la codificación one-hot, tendríamos tres nuevas columnas:\n",
    "  - es_blanco: 1 si el vehículo es blanco, 0 en caso contrario.\n",
    "  - es_gris: 1 si el vehículo es gris, 0 en caso contrario.\n",
    "  - es_negro: 1 si el vehículo es negro, 0 en caso contrario.\n",
    "\n",
    "\n",
    "\n",
    "  > Así, un vehículo blanco se representaría como [1, 0, 0], un vehículo gris como [0, 1, 0], y uno negro como [0, 0, 1].\n",
    "\n",
    "  > Esta técnica permite que el modelo no asuma un orden natural entre los colores, lo que es especialmente útil si no hay un orden claro o inherente en la categoría.\n",
    " \n",
    "\n",
    "\n",
    "**8. ¿Por qué es importante dividir el conjunto de datos en conjuntos de entrenamiento y prueba? ¿Cuál es la proporción típica?**\n",
    "> - Es esencial para evaluar el rendimiento del modelo en datos no vistos y prevenir el sobreajuste. Si usamos todo el conjunto de datos para entrenar, no tendremos una forma efectiva de validar si nuestro modelo generaliza bien a nuevos datos. Una proporción típica es 70% entrenamiento, 15% validación y 15% prueba, aunque también es común usar 80% entrenamiento y 20% prueba.\n",
    "\n",
    "\n",
    "**9. ¿Qué tipo de modelo de Machine Learning sería adecuado para este problema de regresión? ¿Por qué?**\n",
    "> - Un buen punto de partida es un modelo de Regresión Lineal, debido a su simplicidad y eficiencia.\n"
   ]
  },
  {
   "cell_type": "markdown",
   "metadata": {},
   "source": [
    "## Código de la Solución"
   ]
  },
  {
   "cell_type": "code",
   "execution_count": 1,
   "metadata": {},
   "outputs": [],
   "source": [
    "#Importanto librerias\n",
    "import pandas as pd\n",
    "import numpy as np\n",
    "import tensorflow as tf\n",
    "from sklearn.model_selection import train_test_split"
   ]
  },
  {
   "cell_type": "code",
   "execution_count": 2,
   "metadata": {},
   "outputs": [],
   "source": [
    "#cargando los datos\n",
    "#cargando años\n",
    "anios = [2019,2011,2015,2015,2008,2007,2006,2016,2010,2006,2005,2016,2016,2021,2014,2020]\n",
    "#cargando marca de los vehiculos, donde toyota es 1, honda es 2, ford es 3\n",
    "marca = [2,2,3,3,1,1,3,3,1,1,3,2,1,2,2,2]\n",
    "\n",
    "color = [[0,0,1],[0,0,1],[1,0,0],[0,1,0],[1,0,0],[0,1,0],[0,0,1],[1,0,0],[0,1,0],[1,0,0],[1,0,0],[1,0,0],[1,0,0],[0,0,1],[1,0,0],[1,0,0]]\n",
    "\n",
    "#cargando el kilometraje\n",
    "kilometraje =[73148,159555,129358,53555,22159,111530,85077,40920,24457,83953,57995,176829,14692,181830,42065,50299]\n",
    "\n",
    "#cargando datos de los precios}\n",
    "precio = [3100.148, 15161.555,30288.358,11039.555,2688.159,15965.53,10747.077,6432.92,22559.457,1150.953,10656.995,10013.829,12053.692,33999.83,15157.065,13069.299]\n",
    "\n"
   ]
  },
  {
   "cell_type": "code",
   "execution_count": 3,
   "metadata": {},
   "outputs": [],
   "source": [
    "#creamos un dataframe con los datos para visualizarlos\n",
    "df = pd.DataFrame({'Anio':anios,'Marca':marca,'Color':color,'Kilometraje':kilometraje,'Precio':precio})"
   ]
  },
  {
   "cell_type": "code",
   "execution_count": 4,
   "metadata": {},
   "outputs": [],
   "source": [
    "#Preprocensamiento de los datos\n",
    "X=np.column_stack((anios,marca,kilometraje,color))\n",
    "y=np.array(precio)\n"
   ]
  },
  {
   "cell_type": "code",
   "execution_count": 5,
   "metadata": {},
   "outputs": [],
   "source": [
    "# dividimos los datos en entrenamiento y prueba\n",
    "X_train, X_test, y_train, y_test = train_test_split(X, y, test_size=0.2, random_state=42)\n"
   ]
  },
  {
   "cell_type": "code",
   "execution_count": 6,
   "metadata": {},
   "outputs": [],
   "source": [
    "#Creando la red neuronal\n",
    "#definimos el modelo\n",
    "model = tf.keras.Sequential([\n",
    "    tf.keras.layers.Dense(128, activation='relu', input_shape=[6]),\n",
    "    tf.keras.layers.Dense(64, activation='relu'),\n",
    "    tf.keras.layers.Dense(1)\n",
    "])\n"
   ]
  },
  {
   "cell_type": "code",
   "execution_count": 7,
   "metadata": {},
   "outputs": [],
   "source": [
    "#compilamos el modelo\n",
    "model.compile(optimizer='adam',loss='mean_squared_error')"
   ]
  },
  {
   "cell_type": "code",
   "execution_count": 8,
   "metadata": {},
   "outputs": [
    {
     "data": {
      "text/plain": [
       "<keras.src.callbacks.History at 0x1b17d8ecb10>"
      ]
     },
     "execution_count": 8,
     "metadata": {},
     "output_type": "execute_result"
    }
   ],
   "source": [
    "#entrenamos el modelo\n",
    "model.fit(X_train, y_train, epochs=800, verbose=0)"
   ]
  },
  {
   "cell_type": "code",
   "execution_count": 9,
   "metadata": {},
   "outputs": [
    {
     "data": {
      "text/html": [
       "<div>\n",
       "<style scoped>\n",
       "    .dataframe tbody tr th:only-of-type {\n",
       "        vertical-align: middle;\n",
       "    }\n",
       "\n",
       "    .dataframe tbody tr th {\n",
       "        vertical-align: top;\n",
       "    }\n",
       "\n",
       "    .dataframe thead th {\n",
       "        text-align: right;\n",
       "    }\n",
       "</style>\n",
       "<table border=\"1\" class=\"dataframe\">\n",
       "  <thead>\n",
       "    <tr style=\"text-align: right;\">\n",
       "      <th></th>\n",
       "      <th>Anio</th>\n",
       "      <th>Marca</th>\n",
       "      <th>Color</th>\n",
       "      <th>Kilometraje</th>\n",
       "      <th>Precio</th>\n",
       "    </tr>\n",
       "  </thead>\n",
       "  <tbody>\n",
       "    <tr>\n",
       "      <th>0</th>\n",
       "      <td>2019</td>\n",
       "      <td>2</td>\n",
       "      <td>[0, 0, 1]</td>\n",
       "      <td>73148</td>\n",
       "      <td>3100.148</td>\n",
       "    </tr>\n",
       "    <tr>\n",
       "      <th>1</th>\n",
       "      <td>2011</td>\n",
       "      <td>2</td>\n",
       "      <td>[0, 0, 1]</td>\n",
       "      <td>159555</td>\n",
       "      <td>15161.555</td>\n",
       "    </tr>\n",
       "    <tr>\n",
       "      <th>2</th>\n",
       "      <td>2015</td>\n",
       "      <td>3</td>\n",
       "      <td>[1, 0, 0]</td>\n",
       "      <td>129358</td>\n",
       "      <td>30288.358</td>\n",
       "    </tr>\n",
       "    <tr>\n",
       "      <th>3</th>\n",
       "      <td>2015</td>\n",
       "      <td>3</td>\n",
       "      <td>[0, 1, 0]</td>\n",
       "      <td>53555</td>\n",
       "      <td>11039.555</td>\n",
       "    </tr>\n",
       "    <tr>\n",
       "      <th>4</th>\n",
       "      <td>2008</td>\n",
       "      <td>1</td>\n",
       "      <td>[1, 0, 0]</td>\n",
       "      <td>22159</td>\n",
       "      <td>2688.159</td>\n",
       "    </tr>\n",
       "    <tr>\n",
       "      <th>5</th>\n",
       "      <td>2007</td>\n",
       "      <td>1</td>\n",
       "      <td>[0, 1, 0]</td>\n",
       "      <td>111530</td>\n",
       "      <td>15965.530</td>\n",
       "    </tr>\n",
       "    <tr>\n",
       "      <th>6</th>\n",
       "      <td>2006</td>\n",
       "      <td>3</td>\n",
       "      <td>[0, 0, 1]</td>\n",
       "      <td>85077</td>\n",
       "      <td>10747.077</td>\n",
       "    </tr>\n",
       "    <tr>\n",
       "      <th>7</th>\n",
       "      <td>2016</td>\n",
       "      <td>3</td>\n",
       "      <td>[1, 0, 0]</td>\n",
       "      <td>40920</td>\n",
       "      <td>6432.920</td>\n",
       "    </tr>\n",
       "    <tr>\n",
       "      <th>8</th>\n",
       "      <td>2010</td>\n",
       "      <td>1</td>\n",
       "      <td>[0, 1, 0]</td>\n",
       "      <td>24457</td>\n",
       "      <td>22559.457</td>\n",
       "    </tr>\n",
       "    <tr>\n",
       "      <th>9</th>\n",
       "      <td>2006</td>\n",
       "      <td>1</td>\n",
       "      <td>[1, 0, 0]</td>\n",
       "      <td>83953</td>\n",
       "      <td>1150.953</td>\n",
       "    </tr>\n",
       "    <tr>\n",
       "      <th>10</th>\n",
       "      <td>2005</td>\n",
       "      <td>3</td>\n",
       "      <td>[1, 0, 0]</td>\n",
       "      <td>57995</td>\n",
       "      <td>10656.995</td>\n",
       "    </tr>\n",
       "    <tr>\n",
       "      <th>11</th>\n",
       "      <td>2016</td>\n",
       "      <td>2</td>\n",
       "      <td>[1, 0, 0]</td>\n",
       "      <td>176829</td>\n",
       "      <td>10013.829</td>\n",
       "    </tr>\n",
       "    <tr>\n",
       "      <th>12</th>\n",
       "      <td>2016</td>\n",
       "      <td>1</td>\n",
       "      <td>[1, 0, 0]</td>\n",
       "      <td>14692</td>\n",
       "      <td>12053.692</td>\n",
       "    </tr>\n",
       "    <tr>\n",
       "      <th>13</th>\n",
       "      <td>2021</td>\n",
       "      <td>2</td>\n",
       "      <td>[0, 0, 1]</td>\n",
       "      <td>181830</td>\n",
       "      <td>33999.830</td>\n",
       "    </tr>\n",
       "    <tr>\n",
       "      <th>14</th>\n",
       "      <td>2014</td>\n",
       "      <td>2</td>\n",
       "      <td>[1, 0, 0]</td>\n",
       "      <td>42065</td>\n",
       "      <td>15157.065</td>\n",
       "    </tr>\n",
       "    <tr>\n",
       "      <th>15</th>\n",
       "      <td>2020</td>\n",
       "      <td>2</td>\n",
       "      <td>[1, 0, 0]</td>\n",
       "      <td>50299</td>\n",
       "      <td>13069.299</td>\n",
       "    </tr>\n",
       "  </tbody>\n",
       "</table>\n",
       "</div>"
      ],
      "text/plain": [
       "    Anio  Marca      Color  Kilometraje     Precio\n",
       "0   2019      2  [0, 0, 1]        73148   3100.148\n",
       "1   2011      2  [0, 0, 1]       159555  15161.555\n",
       "2   2015      3  [1, 0, 0]       129358  30288.358\n",
       "3   2015      3  [0, 1, 0]        53555  11039.555\n",
       "4   2008      1  [1, 0, 0]        22159   2688.159\n",
       "5   2007      1  [0, 1, 0]       111530  15965.530\n",
       "6   2006      3  [0, 0, 1]        85077  10747.077\n",
       "7   2016      3  [1, 0, 0]        40920   6432.920\n",
       "8   2010      1  [0, 1, 0]        24457  22559.457\n",
       "9   2006      1  [1, 0, 0]        83953   1150.953\n",
       "10  2005      3  [1, 0, 0]        57995  10656.995\n",
       "11  2016      2  [1, 0, 0]       176829  10013.829\n",
       "12  2016      1  [1, 0, 0]        14692  12053.692\n",
       "13  2021      2  [0, 0, 1]       181830  33999.830\n",
       "14  2014      2  [1, 0, 0]        42065  15157.065\n",
       "15  2020      2  [1, 0, 0]        50299  13069.299"
      ]
     },
     "execution_count": 9,
     "metadata": {},
     "output_type": "execute_result"
    }
   ],
   "source": [
    "df"
   ]
  },
  {
   "cell_type": "code",
   "execution_count": 39,
   "metadata": {},
   "outputs": [
    {
     "name": "stdout",
     "output_type": "stream",
     "text": [
      "1/1 [==============================] - 0s 13ms/step\n"
     ]
    },
    {
     "data": {
      "text/html": [
       "<div>\n",
       "<style scoped>\n",
       "    .dataframe tbody tr th:only-of-type {\n",
       "        vertical-align: middle;\n",
       "    }\n",
       "\n",
       "    .dataframe tbody tr th {\n",
       "        vertical-align: top;\n",
       "    }\n",
       "\n",
       "    .dataframe thead th {\n",
       "        text-align: right;\n",
       "    }\n",
       "</style>\n",
       "<table border=\"1\" class=\"dataframe\">\n",
       "  <thead>\n",
       "    <tr style=\"text-align: right;\">\n",
       "      <th></th>\n",
       "      <th>Año</th>\n",
       "      <th>Marca</th>\n",
       "      <th>Kilometraje</th>\n",
       "      <th>Color</th>\n",
       "      <th>Precio Predicho</th>\n",
       "    </tr>\n",
       "  </thead>\n",
       "  <tbody>\n",
       "    <tr>\n",
       "      <th>0</th>\n",
       "      <td>2021</td>\n",
       "      <td>Honda</td>\n",
       "      <td>15000</td>\n",
       "      <td>Blanco</td>\n",
       "      <td>$10293.73</td>\n",
       "    </tr>\n",
       "    <tr>\n",
       "      <th>1</th>\n",
       "      <td>2021</td>\n",
       "      <td>Honda</td>\n",
       "      <td>15000</td>\n",
       "      <td>Negro</td>\n",
       "      <td>$10317.43</td>\n",
       "    </tr>\n",
       "    <tr>\n",
       "      <th>2</th>\n",
       "      <td>2012</td>\n",
       "      <td>Toyota</td>\n",
       "      <td>95000</td>\n",
       "      <td>Blanco</td>\n",
       "      <td>$13839.80</td>\n",
       "    </tr>\n",
       "    <tr>\n",
       "      <th>3</th>\n",
       "      <td>2012</td>\n",
       "      <td>Toyota</td>\n",
       "      <td>95000</td>\n",
       "      <td>Negro</td>\n",
       "      <td>$13859.21</td>\n",
       "    </tr>\n",
       "    <tr>\n",
       "      <th>4</th>\n",
       "      <td>2018</td>\n",
       "      <td>Honda</td>\n",
       "      <td>60000</td>\n",
       "      <td>Blanco</td>\n",
       "      <td>$11491.71</td>\n",
       "    </tr>\n",
       "    <tr>\n",
       "      <th>5</th>\n",
       "      <td>2018</td>\n",
       "      <td>Ford</td>\n",
       "      <td>60000</td>\n",
       "      <td>Negro</td>\n",
       "      <td>$11518.68</td>\n",
       "    </tr>\n",
       "  </tbody>\n",
       "</table>\n",
       "</div>"
      ],
      "text/plain": [
       "    Año   Marca  Kilometraje   Color Precio Predicho\n",
       "0  2021   Honda        15000  Blanco       $10293.73\n",
       "1  2021   Honda        15000   Negro       $10317.43\n",
       "2  2012  Toyota        95000  Blanco       $13839.80\n",
       "3  2012  Toyota        95000   Negro       $13859.21\n",
       "4  2018   Honda        60000  Blanco       $11491.71\n",
       "5  2018    Ford        60000   Negro       $11518.68"
      ]
     },
     "execution_count": 39,
     "metadata": {},
     "output_type": "execute_result"
    }
   ],
   "source": [
    "# Predecir el precio de un vehículo nuevo (recuerda normalizar las entradas de la misma manera que el conjunto de entrenamiento)\n",
    "nuevo_vehiculo = np.array([[2021, 2, 15000, 1, 0, 0],[2021, 2, 15000, 0, 0, 1],[2012, 1, 95000, 1, 0, 0],[2012, 1, 95000, 0, 0, 1],[2018, 2, 60000, 1, 0, 0],[2018, 3, 60000, 0, 0, 1]])\n",
    "prediccion = model.predict(nuevo_vehiculo)\n",
    "\n",
    "#selecccionar del nuevo vehiculo los tres ultimos datos de cada y validarlos, por ejemplo si es 0,1,0 es gris, si es 1,0,0 es blanco, si es 0,0,1 es negro\n",
    "\n",
    "# Determinar el color basado en las últimas tres entradas\n",
    "def determinar_color(entrada):\n",
    "    if np.array_equal(entrada, [1, 0, 0]):\n",
    "        return \"Blanco\"\n",
    "    elif np.array_equal(entrada, [0, 1, 0]):\n",
    "        return \"Gris\"\n",
    "    elif np.array_equal(entrada, [0, 0, 1]):\n",
    "        return \"Negro\"\n",
    "    else:\n",
    "        return \"desconocido\"\n",
    "\n",
    "df_1 = pd.DataFrame(columns=[\"Año\", \"Marca\", \"Kilometraje\", \"Color\", \"Precio Predicho\"])\n",
    "\n",
    "for i, vehiculo in enumerate(nuevo_vehiculo):\n",
    "    color = determinar_color(vehiculo[-3:])   \n",
    "    \n",
    "    marca_dict = {1: 'Toyota', 2: 'Honda', 3: 'Ford'}\n",
    "    marca_str = marca_dict[int(vehiculo[1])]\n",
    "    df_1.loc[i] = [vehiculo[0], marca_str, vehiculo[2], color, f\"${prediccion[i][0]:.2f}\"]\n",
    "\n",
    "df_1\n",
    "\n"
   ]
  },
  {
   "cell_type": "markdown",
   "metadata": {},
   "source": [
    "#### Desarrollado por @Gian"
   ]
  }
 ],
 "metadata": {
  "kernelspec": {
   "display_name": "env",
   "language": "python",
   "name": "python3"
  },
  "language_info": {
   "codemirror_mode": {
    "name": "ipython",
    "version": 3
   },
   "file_extension": ".py",
   "mimetype": "text/x-python",
   "name": "python",
   "nbconvert_exporter": "python",
   "pygments_lexer": "ipython3",
   "version": "3.11.5"
  },
  "orig_nbformat": 4
 },
 "nbformat": 4,
 "nbformat_minor": 2
}
