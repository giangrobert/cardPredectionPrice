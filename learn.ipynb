{
 "cells": [
  {
   "cell_type": "markdown",
   "metadata": {},
   "source": [
    "# Examen Práctico"
   ]
  },
  {
   "cell_type": "code",
   "execution_count": 7,
   "metadata": {},
   "outputs": [],
   "source": [
    "pip install tensorflow"
   ]
  },
  {
   "cell_type": "code",
   "execution_count": 9,
   "metadata": {},
   "outputs": [
    {
     "name": "stdout",
     "output_type": "stream",
     "text": [
      "Collecting scikit-learn\n",
      "  Obtaining dependency information for scikit-learn from https://files.pythonhosted.org/packages/77/85/bff3a1e818ec6aa3dd466ff4f4b0a727db9fdb41f2e849747ad902ddbe95/scikit_learn-1.3.0-cp311-cp311-win_amd64.whl.metadata\n",
      "  Downloading scikit_learn-1.3.0-cp311-cp311-win_amd64.whl.metadata (11 kB)\n",
      "Requirement already satisfied: numpy>=1.17.3 in d:\\nueva carpeta\\nueva carpeta\\nueva carpeta\\exam\\env\\lib\\site-packages (from scikit-learn) (1.24.3)\n",
      "Collecting scipy>=1.5.0 (from scikit-learn)\n",
      "  Obtaining dependency information for scipy>=1.5.0 from https://files.pythonhosted.org/packages/06/15/e73734f9170b66c6a84a0bd7e03586e87e77404e2eb8e34749fc49fa43f7/scipy-1.11.2-cp311-cp311-win_amd64.whl.metadata\n",
      "  Downloading scipy-1.11.2-cp311-cp311-win_amd64.whl.metadata (59 kB)\n",
      "     ---------------------------------------- 0.0/59.1 kB ? eta -:--:--\n",
      "     ---------------------------------------- 59.1/59.1 kB 1.5 MB/s eta 0:00:00\n",
      "Collecting joblib>=1.1.1 (from scikit-learn)\n",
      "  Obtaining dependency information for joblib>=1.1.1 from https://files.pythonhosted.org/packages/10/40/d551139c85db202f1f384ba8bcf96aca2f329440a844f924c8a0040b6d02/joblib-1.3.2-py3-none-any.whl.metadata\n",
      "  Downloading joblib-1.3.2-py3-none-any.whl.metadata (5.4 kB)\n",
      "Collecting threadpoolctl>=2.0.0 (from scikit-learn)\n",
      "  Obtaining dependency information for threadpoolctl>=2.0.0 from https://files.pythonhosted.org/packages/81/12/fd4dea011af9d69e1cad05c75f3f7202cdcbeac9b712eea58ca779a72865/threadpoolctl-3.2.0-py3-none-any.whl.metadata\n",
      "  Downloading threadpoolctl-3.2.0-py3-none-any.whl.metadata (10.0 kB)\n",
      "Downloading scikit_learn-1.3.0-cp311-cp311-win_amd64.whl (9.2 MB)\n",
      "   ---------------------------------------- 0.0/9.2 MB ? eta -:--:--\n",
      "   - -------------------------------------- 0.4/9.2 MB 11.6 MB/s eta 0:00:01\n",
      "   --------- ------------------------------ 2.1/9.2 MB 27.2 MB/s eta 0:00:01\n",
      "   ---------------------------- ----------- 6.6/9.2 MB 52.8 MB/s eta 0:00:01\n",
      "   ---------------------------------------  9.2/9.2 MB 65.5 MB/s eta 0:00:01\n",
      "   ---------------------------------------- 9.2/9.2 MB 45.2 MB/s eta 0:00:00\n",
      "Downloading joblib-1.3.2-py3-none-any.whl (302 kB)\n",
      "   ---------------------------------------- 0.0/302.2 kB ? eta -:--:--\n",
      "   ---------------------------------------- 302.2/302.2 kB ? eta 0:00:00\n",
      "Downloading scipy-1.11.2-cp311-cp311-win_amd64.whl (44.0 MB)\n",
      "   ---------------------------------------- 0.0/44.0 MB ? eta -:--:--\n",
      "   --- ------------------------------------ 4.0/44.0 MB 84.3 MB/s eta 0:00:01\n",
      "   -------- ------------------------------- 8.9/44.0 MB 95.2 MB/s eta 0:00:01\n",
      "   ----------- ---------------------------- 13.1/44.0 MB 93.9 MB/s eta 0:00:01\n",
      "   --------------- ------------------------ 17.3/44.0 MB 93.9 MB/s eta 0:00:01\n",
      "   -------------------- ------------------- 22.0/44.0 MB 93.9 MB/s eta 0:00:01\n",
      "   ------------------------ --------------- 26.9/44.0 MB 93.9 MB/s eta 0:00:01\n",
      "   ---------------------------- ----------- 31.5/44.0 MB 93.0 MB/s eta 0:00:01\n",
      "   -------------------------------- ------- 35.6/44.0 MB 93.0 MB/s eta 0:00:01\n",
      "   ------------------------------------ --- 39.6/44.0 MB 81.8 MB/s eta 0:00:01\n",
      "   ---------------------------------------  43.7/44.0 MB 81.8 MB/s eta 0:00:01\n",
      "   ---------------------------------------  44.0/44.0 MB 81.8 MB/s eta 0:00:01\n",
      "   ---------------------------------------  44.0/44.0 MB 81.8 MB/s eta 0:00:01\n",
      "   ---------------------------------------  44.0/44.0 MB 81.8 MB/s eta 0:00:01\n",
      "   ---------------------------------------- 44.0/44.0 MB 36.3 MB/s eta 0:00:00\n",
      "Downloading threadpoolctl-3.2.0-py3-none-any.whl (15 kB)\n",
      "Installing collected packages: threadpoolctl, scipy, joblib, scikit-learn\n",
      "Successfully installed joblib-1.3.2 scikit-learn-1.3.0 scipy-1.11.2 threadpoolctl-3.2.0\n",
      "Note: you may need to restart the kernel to use updated packages.\n"
     ]
    }
   ],
   "source": [
    "pip install -U scikit-learn"
   ]
  },
  {
   "cell_type": "code",
   "execution_count": 8,
   "metadata": {},
   "outputs": [],
   "source": [
    "#evaluación Priemra parte\n",
    "#Elaborar un modelo para la prediccion de costos de un terreno en función de sus medida en metros cuadrados\n",
    "import numpy as np\n",
    "import tensorflow as tf"
   ]
  },
  {
   "cell_type": "code",
   "execution_count": 12,
   "metadata": {},
   "outputs": [],
   "source": [
    "from tensorflow import keras\n",
    "from sklearn.model_selection import train_test_split"
   ]
  },
  {
   "cell_type": "code",
   "execution_count": 91,
   "metadata": {},
   "outputs": [],
   "source": [
    "#datos de ejemplo\n",
    "terrenos = [80,100,120,150,200,300,400]\n",
    "\n",
    "\n",
    "#especificamo si el terremo tiene servicio de agua\n",
    "agua = [1,1,0,0,1,0,0]\n",
    "\n",
    "#especificamos si el terreno tiene servicio de luz\n",
    "luz = [1,1,1,0,0,0,0]\n",
    "\n",
    "#precios en miles de dolares\n",
    "precios = [12,22,30,45,60,75, 82]\n"
   ]
  },
  {
   "cell_type": "code",
   "execution_count": 93,
   "metadata": {},
   "outputs": [],
   "source": [
    "#pre procesamos los datos\n",
    "X=np.column_stack((terrenos,agua,luz))\n",
    "y=np.array(precios)"
   ]
  },
  {
   "cell_type": "code",
   "execution_count": 94,
   "metadata": {},
   "outputs": [],
   "source": [
    "# dividimos los datos en entrenamiento y prueba\n",
    "X_train,X_test,y_train,y_test=train_test_split(X,y,test_size=0.2,random_state=42)"
   ]
  },
  {
   "cell_type": "code",
   "execution_count": 100,
   "metadata": {},
   "outputs": [],
   "source": [
    "# crear el modelo de red neuronal\n",
    "# agregando más capas ocultas\n",
    "model = keras.Sequential([\n",
    "    keras.layers.Dense(units=128,activation='relu', input_shape=[3]),\n",
    "    keras.layers.Dense(units=64,activation='relu'),\n",
    "    keras.layers.Dense(units=1),\n",
    "])"
   ]
  },
  {
   "cell_type": "code",
   "execution_count": 101,
   "metadata": {},
   "outputs": [],
   "source": [
    "#compilar el modelo\n",
    "model.compile(optimizer='adam',loss='mean_squared_error')"
   ]
  },
  {
   "cell_type": "code",
   "execution_count": 102,
   "metadata": {},
   "outputs": [
    {
     "data": {
      "text/plain": [
       "<keras.src.callbacks.History at 0x20c0d7c30d0>"
      ]
     },
     "execution_count": 102,
     "metadata": {},
     "output_type": "execute_result"
    }
   ],
   "source": [
    "#entrenar el modelo\n",
    "model.fit(X_train,y_train,epochs=600, verbose=0)"
   ]
  },
  {
   "cell_type": "code",
   "execution_count": null,
   "metadata": {},
   "outputs": [
    {
     "name": "stdout",
     "output_type": "stream",
     "text": [
      "1/1 [==============================] - 0s 13ms/step\n",
      "   Metros Cuadrados  Agua  Luz      Precio\n",
      "0               160     1    1   41.693401\n",
      "1               160     0    1   39.065361\n",
      "2               600     0    0  139.394226\n",
      "3               160     1    1   41.693401\n",
      "4               800     0    0  185.262360\n",
      "5               800     0    1  185.843475\n",
      "6               800     1    0  187.958801\n",
      "7               800     1    1  188.539886\n"
     ]
    }
   ],
   "source": [
    "#predicimos el precio de un terreno de 170 metros cuadrados\n",
    "terreno_new=np.array([[160,1,1],[160,0,1],[600,0,0],[160,1,1],[800,0,0],[800,0,1],[800,1,0],[800,1,1]])\n",
    "precio_predecido=model.predict(terreno_new)\n",
    "#Colocar los datos en un data frame\n",
    "import pandas as pd\n",
    "df = pd.DataFrame(terreno_new, columns=['Metros Cuadrados', 'Agua', 'Luz'])\n",
    "df['Precio'] = precio_predecido\n",
    "print(df)\n"
   ]
  },
  {
   "cell_type": "markdown",
   "metadata": {},
   "source": [
    "* Por *Gian Grobert Mamani Mamani*"
   ]
  }
 ],
 "metadata": {
  "kernelspec": {
   "display_name": "env",
   "language": "python",
   "name": "python3"
  },
  "language_info": {
   "codemirror_mode": {
    "name": "ipython",
    "version": 3
   },
   "file_extension": ".py",
   "mimetype": "text/x-python",
   "name": "python",
   "nbconvert_exporter": "python",
   "pygments_lexer": "ipython3",
   "version": "3.11.5"
  },
  "orig_nbformat": 4
 },
 "nbformat": 4,
 "nbformat_minor": 2
}
